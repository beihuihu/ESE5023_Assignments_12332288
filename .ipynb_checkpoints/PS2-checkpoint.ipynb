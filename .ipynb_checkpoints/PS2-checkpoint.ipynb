{
 "cells": [
  {
   "cell_type": "code",
   "execution_count": 1,
   "metadata": {},
   "outputs": [
    {
     "name": "stderr",
     "output_type": "stream",
     "text": [
      "C:\\ProgramData\\Anaconda3\\lib\\site-packages\\pandas\\core\\computation\\expressions.py:20: UserWarning: Pandas requires version '2.7.3' or newer of 'numexpr' (version '2.7.1' currently installed).\n",
      "  from pandas.core.computation.check import NUMEXPR_INSTALLED\n"
     ]
    }
   ],
   "source": [
    "import pandas as pd\n",
    "import numpy as np\n",
    "import matplotlib.pyplot as plt"
   ]
  },
  {
   "cell_type": "markdown",
   "metadata": {},
   "source": [
    "# problem1"
   ]
  },
  {
   "cell_type": "code",
   "execution_count": 2,
   "metadata": {},
   "outputs": [],
   "source": [
    "Eqs=pd.read_csv(\"Sig_Eqs.tsv\",sep='\\t')"
   ]
  },
  {
   "cell_type": "markdown",
   "metadata": {},
   "source": [
    "## 1.1"
   ]
  },
  {
   "cell_type": "code",
   "execution_count": 21,
   "metadata": {
    "scrolled": true
   },
   "outputs": [
    {
     "data": {
      "text/plain": [
       "Country\n",
       "CHINA         2075045.0\n",
       "TURKEY        1188881.0\n",
       "IRAN          1011449.0\n",
       "ITALY          498478.0\n",
       "SYRIA          439224.0\n",
       "HAITI          323478.0\n",
       "AZERBAIJAN     317219.0\n",
       "JAPAN          279085.0\n",
       "ARMENIA        191890.0\n",
       "PAKISTAN       145083.0\n",
       "Name: Deaths, dtype: float64"
      ]
     },
     "execution_count": 21,
     "metadata": {},
     "output_type": "execute_result"
    }
   ],
   "source": [
    "Eqs.groupby(\"Country\").sum()['Deaths'].nlargest(10)"
   ]
  },
  {
   "cell_type": "markdown",
   "metadata": {},
   "source": [
    "## 1.2"
   ]
  },
  {
   "cell_type": "code",
   "execution_count": 63,
   "metadata": {},
   "outputs": [
    {
     "data": {
      "text/plain": [
       "<matplotlib.axes._subplots.AxesSubplot at 0x1c33da380d0>"
      ]
     },
     "execution_count": 63,
     "metadata": {},
     "output_type": "execute_result"
    },
    {
     "data": {
      "image/png": "[encoded data removed]",
      "text/plain": [
       "<Figure size 432x288 with 1 Axes>"
      ]
     },
     "metadata": {
      "needs_background": "light"
     },
     "output_type": "display_data"
    }
   ],
   "source": [
    "Eqs[Eqs['Mag']>0.6].groupby('Year').count()['Mag'].plot()"
   ]
  },
  {
   "cell_type": "markdown",
   "metadata": {},
   "source": [
    "## 1.3\n",
    "https://blog.csdn.net/weixin_46969441/article/details/119859417\n",
    "https://blog.csdn.net/sunmingyang1987/article/details/106354619"
   ]
  },
  {
   "cell_type": "code",
   "execution_count": 16,
   "metadata": {
    "scrolled": true
   },
   "outputs": [
    {
     "name": "stdout",
     "output_type": "stream",
     "text": [
      "             Country Count        Date\n",
      "0              CHINA   589   1668-7-25\n",
      "0              JAPAN   351   2011-3-11\n",
      "0          INDONESIA   331  2004-12-26\n",
      "0               IRAN   259   856-12-22\n",
      "0                USA   223   1964-3-28\n",
      "..               ...   ...         ...\n",
      "0      FRENCH GUIANA     1    1885-8-4\n",
      "0   FRENCH POLYNESIA     1   1848-7-12\n",
      "0               TOGO     1        1788\n",
      "0       SIERRA LEONE     1   1795-5-20\n",
      "0            COMOROS     1   2018-5-15\n",
      "\n",
      "[169 rows x 3 columns]\n"
     ]
    }
   ],
   "source": [
    "def CountEq_LargestEq(eqs,country,):\n",
    "    country_eqs=eqs[eqs['Country']==country]\n",
    "    max_mag=country_eqs[country_eqs['Mag']==country_eqs['Mag'].max()]\n",
    "    timeList=[]\n",
    "    for index, row in max_mag.iterrows():\n",
    "        if row['Year']<0:\n",
    "            year='BC '+str(int(abs(row['Year'])))\n",
    "        else:\n",
    "            year=str(int(row['Year']))\n",
    "        if pd.notnull(row['Mo']):\n",
    "            year=year+'-'+str(int(row['Mo']))\n",
    "            if pd.notnull(row['Dy']):\n",
    "                year=year+'-'+str(int(row['Dy']))\n",
    "        timeList.append(year)\n",
    "    result=pd.DataFrame({'Country':country,'Count':country_eqs.count()['Mag'],'Date':timeList})\n",
    "    return result \n",
    "\n",
    "resultDf=pd.DataFrame(columns=['Country','Count','Date'])\n",
    "Eqs.dropna(subset = ['Country'])\n",
    "for country in Eqs['Country'].unique():\n",
    "    result=CountEq_LargestEq(Eqs,country)\n",
    "    resultDf=pd.concat([resultDf,result])\n",
    "print(resultDf.sort_values('Count', ascending=False))"
   ]
  },
  {
   "cell_type": "markdown",
   "metadata": {},
   "source": [
    "# problem2\n",
    "https://blog.csdn.net/qq_41341757/article/details/110442681\n",
    "https://blog.csdn.net/weixin_40659838/article/details/95211780"
   ]
  },
  {
   "cell_type": "code",
   "execution_count": 18,
   "metadata": {},
   "outputs": [
    {
     "name": "stderr",
     "output_type": "stream",
     "text": [
      "<ipython-input-18-5b9210cf4965>:1: DtypeWarning: Columns (4,8,9,12,15,21,22,24,26,31,33,34) have mixed types. Specify dtype option on import or set low_memory=False.\n",
      "  WS=pd.read_csv(\"2281305.csv\")\n"
     ]
    }
   ],
   "source": [
    "WS=pd.read_csv(\"2281305.csv\")"
   ]
  },
  {
   "cell_type": "code",
   "execution_count": 52,
   "metadata": {},
   "outputs": [
    {
     "name": "stdout",
     "output_type": "stream",
     "text": [
      "                     Direction  DirectionQuality Type  Speed  SpeedQuality\n",
      "Time                                                                      \n",
      "2010-01-02 00:00:00         40                 1    N    2.0             1\n",
      "2010-01-02 01:00:00        999                 9    V    1.0             1\n",
      "2010-01-02 02:00:00        999                 9    C    0.0             1\n",
      "2010-01-02 03:00:00        140                 1    N    1.0             1\n",
      "2010-01-02 04:00:00        300                 1    N    4.0             1\n"
     ]
    }
   ],
   "source": [
    "#分割'WDN'字段\n",
    "def splictWND(x,num):\n",
    "    strs=x.split(',')[num]\n",
    "    if num==2:\n",
    "        return strs\n",
    "    elif num==3:#speed\n",
    "        if strs=='9999':#no value\n",
    "            return np.nan\n",
    "        else:\n",
    "            return float(x.split(',')[num])/10\n",
    "    else:\n",
    "        return int(x.split(',')[num])\n",
    "    \n",
    "WS['Direction']=WS['WND'].apply(splictWND,num=0)\n",
    "WS['DirectionQuality']=WS['WND'].apply(splictWND,num=1)\n",
    "WS['Type']=WS['WND'].apply(splictWND,num=2)\n",
    "WS['Speed']=WS['WND'].apply(splictWND,num=3)\n",
    "WS['SpeedQuality']=WS['WND'].apply(splictWND,num=4)\n",
    "WS['Time']= pd.to_datetime(WS['DATE'])\n",
    "WindSpeed=WS[['Time','Direction','DirectionQuality','Type','Speed','SpeedQuality']].set_index('Time')\n",
    "print(WindSpeed.head())"
   ]
  },
  {
   "cell_type": "code",
   "execution_count": 53,
   "metadata": {},
   "outputs": [
    {
     "data": {
      "image/png": "[encoded data removed]",
      "text/plain": [
       "<Figure size 432x288 with 1 Axes>"
      ]
     },
     "metadata": {
      "needs_background": "light"
     },
     "output_type": "display_data"
    }
   ],
   "source": [
    "WindSpeedAvg=WindSpeed.resample('M') ['Speed'].mean().plot()"
   ]
  },
  {
   "cell_type": "markdown",
   "metadata": {},
   "source": [
    "# problem3"
   ]
  },
  {
   "cell_type": "markdown",
   "metadata": {},
   "source": [
    "## 3.1"
   ]
  },
  {
   "cell_type": "code",
   "execution_count": 54,
   "metadata": {},
   "outputs": [
    {
     "data": {
      "text/html": [
       "<div>\n",
       "<style scoped>\n",
       "    .dataframe tbody tr th:only-of-type {\n",
       "        vertical-align: middle;\n",
       "    }\n",
       "\n",
       "    .dataframe tbody tr th {\n",
       "        vertical-align: top;\n",
       "    }\n",
       "\n",
       "    .dataframe thead th {\n",
       "        text-align: right;\n",
       "    }\n",
       "</style>\n",
       "<table border=\"1\" class=\"dataframe\">\n",
       "  <thead>\n",
       "    <tr style=\"text-align: right;\">\n",
       "      <th></th>\n",
       "      <th>STATION</th>\n",
       "      <th>DATE</th>\n",
       "      <th>SLP</th>\n",
       "      <th>TMP</th>\n",
       "    </tr>\n",
       "  </thead>\n",
       "  <tbody>\n",
       "    <tr>\n",
       "      <th>0</th>\n",
       "      <td>59493099999</td>\n",
       "      <td>2010-01-02T00:00:00</td>\n",
       "      <td>10161,1</td>\n",
       "      <td>+0161,1</td>\n",
       "    </tr>\n",
       "    <tr>\n",
       "      <th>1</th>\n",
       "      <td>59493099999</td>\n",
       "      <td>2010-01-02T01:00:00</td>\n",
       "      <td>99999,9</td>\n",
       "      <td>+0170,1</td>\n",
       "    </tr>\n",
       "    <tr>\n",
       "      <th>2</th>\n",
       "      <td>59493099999</td>\n",
       "      <td>2010-01-02T02:00:00</td>\n",
       "      <td>99999,9</td>\n",
       "      <td>+0180,1</td>\n",
       "    </tr>\n",
       "    <tr>\n",
       "      <th>3</th>\n",
       "      <td>59493099999</td>\n",
       "      <td>2010-01-02T03:00:00</td>\n",
       "      <td>10169,1</td>\n",
       "      <td>+0192,1</td>\n",
       "    </tr>\n",
       "    <tr>\n",
       "      <th>4</th>\n",
       "      <td>59493099999</td>\n",
       "      <td>2010-01-02T04:00:00</td>\n",
       "      <td>99999,9</td>\n",
       "      <td>+0180,1</td>\n",
       "    </tr>\n",
       "    <tr>\n",
       "      <th>...</th>\n",
       "      <td>...</td>\n",
       "      <td>...</td>\n",
       "      <td>...</td>\n",
       "      <td>...</td>\n",
       "    </tr>\n",
       "    <tr>\n",
       "      <th>111979</th>\n",
       "      <td>59493099999</td>\n",
       "      <td>2020-09-11T17:00:00</td>\n",
       "      <td>99999,9</td>\n",
       "      <td>+0290,1</td>\n",
       "    </tr>\n",
       "    <tr>\n",
       "      <th>111980</th>\n",
       "      <td>59493099999</td>\n",
       "      <td>2020-09-11T18:00:00</td>\n",
       "      <td>99999,9</td>\n",
       "      <td>+0290,1</td>\n",
       "    </tr>\n",
       "    <tr>\n",
       "      <th>111981</th>\n",
       "      <td>59493099999</td>\n",
       "      <td>2020-09-11T19:00:00</td>\n",
       "      <td>99999,9</td>\n",
       "      <td>+0290,1</td>\n",
       "    </tr>\n",
       "    <tr>\n",
       "      <th>111982</th>\n",
       "      <td>59493099999</td>\n",
       "      <td>2020-09-11T20:00:00</td>\n",
       "      <td>99999,9</td>\n",
       "      <td>+0290,1</td>\n",
       "    </tr>\n",
       "    <tr>\n",
       "      <th>111983</th>\n",
       "      <td>59493099999</td>\n",
       "      <td>2020-09-11T21:00:00</td>\n",
       "      <td>99999,9</td>\n",
       "      <td>+0290,1</td>\n",
       "    </tr>\n",
       "  </tbody>\n",
       "</table>\n",
       "<p>111984 rows × 4 columns</p>\n",
       "</div>"
      ],
      "text/plain": [
       "            STATION                 DATE      SLP      TMP\n",
       "0       59493099999  2010-01-02T00:00:00  10161,1  +0161,1\n",
       "1       59493099999  2010-01-02T01:00:00  99999,9  +0170,1\n",
       "2       59493099999  2010-01-02T02:00:00  99999,9  +0180,1\n",
       "3       59493099999  2010-01-02T03:00:00  10169,1  +0192,1\n",
       "4       59493099999  2010-01-02T04:00:00  99999,9  +0180,1\n",
       "...             ...                  ...      ...      ...\n",
       "111979  59493099999  2020-09-11T17:00:00  99999,9  +0290,1\n",
       "111980  59493099999  2020-09-11T18:00:00  99999,9  +0290,1\n",
       "111981  59493099999  2020-09-11T19:00:00  99999,9  +0290,1\n",
       "111982  59493099999  2020-09-11T20:00:00  99999,9  +0290,1\n",
       "111983  59493099999  2020-09-11T21:00:00  99999,9  +0290,1\n",
       "\n",
       "[111984 rows x 4 columns]"
      ]
     },
     "execution_count": 54,
     "metadata": {},
     "output_type": "execute_result"
    }
   ],
   "source": [
    "SLP=pd.read_csv(\"problem3data.csv\")\n",
    "SLP"
   ]
  },
  {
   "cell_type": "code",
   "execution_count": null,
   "metadata": {},
   "outputs": [],
   "source": [
    "def splictSLP(x,num):\n",
    "    strs=x.split(',')[num]\n",
    "    if num==1:#sea level pressure\n",
    "        if strs=='99999':#no value\n",
    "            return np.nan\n",
    "        else:\n",
    "            return float(x.split(',')[num])/10\n",
    "    else:\n",
    "        return int(x.split(',')[num])\n",
    "    \n",
    "WS['seeLevelPressure']=SLP['SLP'].apply(splictSLP,num=0)\n",
    "WS['seeLevelPressureQuality']=WS['WND'].apply(splictWND,num=1)"
   ]
  }
 ],
 "metadata": {
  "kernelspec": {
   "display_name": "Python 3",
   "language": "python",
   "name": "python3"
  },
  "language_info": {
   "codemirror_mode": {
    "name": "ipython",
    "version": 3
   },
   "file_extension": ".py",
   "mimetype": "text/x-python",
   "name": "python",
   "nbconvert_exporter": "python",
   "pygments_lexer": "ipython3",
   "version": "3.8.3"
  }
 },
 "nbformat": 4,
 "nbformat_minor": 4
}
